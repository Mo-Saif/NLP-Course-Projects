{
 "cells": [
  {
   "cell_type": "code",
   "execution_count": 1,
   "metadata": {},
   "outputs": [],
   "source": [
    "# Mohammed Kazamel"
   ]
  },
  {
   "cell_type": "code",
   "execution_count": 2,
   "metadata": {},
   "outputs": [
    {
     "data": {
      "text/plain": [
       "load_reviews (generic function with 1 method)"
      ]
     },
     "execution_count": 2,
     "metadata": {},
     "output_type": "execute_result"
    }
   ],
   "source": [
    "function load_reviews(parent_path)\n",
    "    println(\"loading reviews...\")\n",
    "    file_paths = [\"/train/pos/\", \"/train/neg/\", \"/test/pos/\", \"/test/neg/\"]\n",
    "    four_sets = []\n",
    "    for file_path in parent_path .* file_paths # for each directory\n",
    "        review_list = []\n",
    "        for file_name in readdir(file_path) # for each file in a directory\n",
    "            s = open(file_path * file_name) do file \n",
    "                read(file, String)\n",
    "            end\n",
    "            push!(review_list, s) # append review\n",
    "        end\n",
    "        push!(four_sets, review_list)\n",
    "    end\n",
    "    print(\"lengths of the four sets are: \", length.(four_sets))\n",
    "    return four_sets\n",
    "end"
   ]
  },
  {
   "cell_type": "code",
   "execution_count": 3,
   "metadata": {},
   "outputs": [
    {
     "name": "stdout",
     "output_type": "stream",
     "text": [
      "loading reviews...\n",
      "lengths of the four sets are: [12500, 12500, 12500, 12500]"
     ]
    }
   ],
   "source": [
    "parent_path = \"./aclImdb\"\n",
    "train_pos, train_neg, test_pos, test_neg = load_reviews(parent_path);"
   ]
  },
  {
   "cell_type": "code",
   "execution_count": 4,
   "metadata": {},
   "outputs": [
    {
     "data": {
      "text/plain": [
       "clean_and_tokenize (generic function with 1 method)"
      ]
     },
     "execution_count": 4,
     "metadata": {},
     "output_type": "execute_result"
    }
   ],
   "source": [
    "function clean_and_tokenize(review) # returns the review as an array of words\n",
    "    review = lowercase(review)\n",
    "    review = replace(review, r\"<.*?>\" => \"\")\n",
    "    review = [r.match for r in collect(eachmatch(r\"[a-zA-Z0-9-']+|([!?])\", review))]\n",
    "end"
   ]
  },
  {
   "cell_type": "code",
   "execution_count": 5,
   "metadata": {},
   "outputs": [],
   "source": [
    "train_pos = clean_and_tokenize.(train_pos);\n",
    "train_neg = clean_and_tokenize.(train_neg);\n",
    "test_pos = clean_and_tokenize.(test_pos);\n",
    "test_neg = clean_and_tokenize.(test_neg);"
   ]
  },
  {
   "cell_type": "code",
   "execution_count": 6,
   "metadata": {
    "scrolled": true
   },
   "outputs": [
    {
     "data": {
      "text/plain": [
       "train_frequency_calc (generic function with 1 method)"
      ]
     },
     "execution_count": 6,
     "metadata": {},
     "output_type": "execute_result"
    }
   ],
   "source": [
    "function train_frequency_calc(train_pos, train_neg)\n",
    "    num_of_words_pos = 0\n",
    "    num_of_words_neg = 0\n",
    "    positive_word_frequencies = Dict() # no. of occurences in positive reviews\n",
    "    negative_word_frequencies = Dict() # no. of occurences in negative reviews\n",
    "    total_word_frequencies = Dict() # no. of occurences in all training reviews\n",
    "    for review in train_pos\n",
    "        num_of_words_pos += length(review)\n",
    "        for token in review\n",
    "            if haskey(positive_word_frequencies, token)\n",
    "                positive_word_frequencies[token] += 1\n",
    "            else\n",
    "                positive_word_frequencies[token] = 1\n",
    "            end\n",
    "            \n",
    "            if haskey(total_word_frequencies, token)\n",
    "                total_word_frequencies[token] += 1\n",
    "            else\n",
    "                total_word_frequencies[token] = 1\n",
    "            end\n",
    "        end\n",
    "    end\n",
    "    \n",
    "    for review in train_neg\n",
    "        num_of_words_neg += length(review)\n",
    "        for token in review\n",
    "            if haskey(negative_word_frequencies, token)\n",
    "                negative_word_frequencies[token] += 1\n",
    "            else\n",
    "                negative_word_frequencies[token] = 1\n",
    "            end\n",
    "            \n",
    "            if haskey(total_word_frequencies, token)\n",
    "                total_word_frequencies[token] += 1\n",
    "            else\n",
    "                total_word_frequencies[token] = 1\n",
    "            end\n",
    "        end\n",
    "    end\n",
    "    \n",
    "    for (k,v) in total_word_frequencies\n",
    "        if !haskey(positive_word_frequencies, k)\n",
    "            positive_word_frequencies[k] = 0\n",
    "        end\n",
    "        if !haskey(negative_word_frequencies, k)\n",
    "            negative_word_frequencies[k] = 0\n",
    "        end\n",
    "        # add-one smoothing \n",
    "        total_word_frequencies[k] += 1\n",
    "        positive_word_frequencies[k] += 1\n",
    "        negative_word_frequencies[k] += 1\n",
    "    end\n",
    "    \n",
    "    \n",
    "    return (num_of_words_pos, num_of_words_neg,\n",
    "        positive_word_frequencies, negative_word_frequencies, total_word_frequencies)\n",
    "end"
   ]
  },
  {
   "cell_type": "code",
   "execution_count": 7,
   "metadata": {},
   "outputs": [],
   "source": [
    "(num_of_words_pos, num_of_words_neg, positive_word_frequencies,\n",
    "    negative_word_frequencies, total_word_frequencies) = train_frequency_calc(train_pos, train_neg);"
   ]
  },
  {
   "cell_type": "code",
   "execution_count": 8,
   "metadata": {},
   "outputs": [
    {
     "data": {
      "text/plain": [
       "calc_probs (generic function with 1 method)"
      ]
     },
     "execution_count": 8,
     "metadata": {},
     "output_type": "execute_result"
    }
   ],
   "source": [
    "# P(W|C1), P(W|C2), P(C1), P(C2)\n",
    "# p(w|C) = num of w in c / num of words in c\n",
    "# p(C) = num of C examples / num of all examples\n",
    "function calc_probs(num_of_words_pos, num_of_words_neg, positive_word_frequencies,\n",
    "        negative_word_frequencies, num_pos_examples, num_neg_examples)\n",
    "    \n",
    "    pos_word_probs, neg_word_probs = Dict(), Dict()\n",
    "    prob_of_pos_class = num_pos_examples/(num_pos_examples + num_neg_examples)\n",
    "    prob_of_neg_class = num_neg_examples/(num_pos_examples + num_neg_examples)\n",
    "    \n",
    "    for (k,v) in positive_word_frequencies\n",
    "        pos_word_probs[k] = v/num_of_words_pos\n",
    "    end\n",
    "    \n",
    "    for (k,v) in negative_word_frequencies\n",
    "        neg_word_probs[k] = v/num_of_words_neg\n",
    "    end\n",
    "    # adding UNK\n",
    "    pos_word_probs[\"UNK\"] = 0.5\n",
    "    neg_word_probs[\"UNK\"] = 0.5\n",
    "    # 0.5 since we didn't assign anything to it\n",
    "    \n",
    "    return pos_word_probs, neg_word_probs, prob_of_pos_class, prob_of_neg_class\n",
    "end"
   ]
  },
  {
   "cell_type": "code",
   "execution_count": 9,
   "metadata": {},
   "outputs": [],
   "source": [
    "pos_word_probs, neg_word_probs, prob_of_pos_class, prob_of_neg_class = calc_probs(\n",
    "    num_of_words_pos, num_of_words_neg, positive_word_frequencies,\n",
    "    negative_word_frequencies, length(train_pos), length(train_neg));"
   ]
  },
  {
   "cell_type": "code",
   "execution_count": 10,
   "metadata": {},
   "outputs": [
    {
     "data": {
      "text/plain": [
       "predict_class (generic function with 1 method)"
      ]
     },
     "execution_count": 10,
     "metadata": {},
     "output_type": "execute_result"
    }
   ],
   "source": [
    "function predict_class(review, pos_word_probs, neg_word_probs, prob_of_pos_class, prob_of_neg_class) # cleaned\n",
    "    pos_log_prob = 0\n",
    "    neg_log_prob = 0\n",
    "    for word in review\n",
    "        pos_log_prob += log(get(pos_word_probs, word, pos_word_probs[\"UNK\"]))\n",
    "        neg_log_prob += log(get(neg_word_probs, word, neg_word_probs[\"UNK\"]))\n",
    "    end\n",
    "    pos_log_prob += log(prob_of_pos_class)\n",
    "    neg_log_prob += log(prob_of_neg_class)\n",
    "    return (pos_log_prob > neg_log_prob) ? 1 : 0 # 1 for positive, 0 for negative\n",
    "end"
   ]
  },
  {
   "cell_type": "code",
   "execution_count": 11,
   "metadata": {},
   "outputs": [
    {
     "data": {
      "text/plain": [
       "calc_acc (generic function with 1 method)"
      ]
     },
     "execution_count": 11,
     "metadata": {},
     "output_type": "execute_result"
    }
   ],
   "source": [
    "function calc_acc(test_pos, test_neg, pos_word_probs, neg_word_probs, \n",
    "        prob_of_pos_class, prob_of_neg_class, num_pos_examples, num_neg_examples)\n",
    "    accuracy = 0\n",
    "    for review in test_pos\n",
    "        if predict_class(review, pos_word_probs, neg_word_probs, prob_of_pos_class, prob_of_neg_class) == 1\n",
    "            accuracy += 1\n",
    "        end\n",
    "    end\n",
    "    for review in test_neg\n",
    "        if predict_class(review, pos_word_probs, neg_word_probs, prob_of_pos_class, prob_of_neg_class) == 0\n",
    "            accuracy += 1\n",
    "        end\n",
    "    end\n",
    "    accuracy /= (num_pos_examples + num_neg_examples)\n",
    "    print(accuracy)\n",
    "    return accuracy\n",
    "end"
   ]
  },
  {
   "cell_type": "code",
   "execution_count": 12,
   "metadata": {},
   "outputs": [
    {
     "name": "stdout",
     "output_type": "stream",
     "text": [
      "0.81372"
     ]
    },
    {
     "data": {
      "text/plain": [
       "0.81372"
      ]
     },
     "execution_count": 12,
     "metadata": {},
     "output_type": "execute_result"
    }
   ],
   "source": [
    "accuracy = calc_acc(test_pos, test_neg, pos_word_probs, neg_word_probs, \n",
    "    prob_of_pos_class, prob_of_neg_class, length(train_pos), length(train_neg))"
   ]
  }
 ],
 "metadata": {
  "kernelspec": {
   "display_name": "Julia 1.1.1",
   "language": "julia",
   "name": "julia-1.1"
  },
  "language_info": {
   "file_extension": ".jl",
   "mimetype": "application/julia",
   "name": "julia",
   "version": "1.1.1"
  }
 },
 "nbformat": 4,
 "nbformat_minor": 2
}
