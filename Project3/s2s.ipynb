{
 "cells": [
  {
   "cell_type": "markdown",
   "metadata": {},
   "source": [
    "# Neural Machine Translation\n",
    "\n",
    "**Reference:** Sutskever, Ilya, Oriol Vinyals, and Quoc V. Le. \"Sequence to sequence learning with neural networks.\" In Advances in neural information processing systems, pp. 3104-3112. 2014. ([Paper](https://papers.nips.cc/paper/5346-sequence-to-sequence-learning-with-neural-networks), [Sample code](https://github.com/tensorflow/nmt))"
   ]
  },
  {
   "cell_type": "code",
   "execution_count": 1,
   "metadata": {},
   "outputs": [
    {
     "name": "stderr",
     "output_type": "stream",
     "text": [
      "┌ Info: Recompiling stale cache file /home/ec2-user/.julia/compiled/v1.2/Knet/f4vSz.ji for Knet [1902f260-5fb4-5aff-8c31-6271790ab950]\n",
      "└ @ Base loading.jl:1240\n"
     ]
    },
    {
     "data": {
      "text/plain": [
       "@size (macro with 1 method)"
      ]
     },
     "execution_count": 1,
     "metadata": {},
     "output_type": "execute_result"
    }
   ],
   "source": [
    "using Knet, Test, Base.Iterators, IterTools, Random # , LinearAlgebra, StatsBase\n",
    "using AutoGrad: @gcheck  # to check gradients, use with Float64\n",
    "Knet.atype() = KnetArray{Float32}  # determines what Knet.param() uses.\n",
    "macro size(z, s); esc(:(@assert (size($z) == $s) string(summary($z),!=,$s))); end # for debugging"
   ]
  },
  {
   "cell_type": "markdown",
   "metadata": {},
   "source": [
    "## Part -1. Types from the last project\n",
    "\n",
    "Please copy the following types and related functions from the last project: `Vocab`,\n",
    "`TextReader`, `Embed`, `Linear`, `mask!`."
   ]
  },
  {
   "cell_type": "code",
   "execution_count": 2,
   "metadata": {},
   "outputs": [
    {
     "data": {
      "text/plain": [
       "Vocab"
      ]
     },
     "execution_count": 2,
     "metadata": {},
     "output_type": "execute_result"
    }
   ],
   "source": [
    "struct Vocab\n",
    "    w2i::Dict{String,Int}\n",
    "    i2w::Vector{String}\n",
    "    unk::Int\n",
    "    eos::Int\n",
    "    tokenizer\n",
    "end\n",
    "\n",
    "function Vocab(file::String; tokenizer=split, vocabsize=Inf, mincount=1, unk=\"<unk>\", eos=\"<s>\")\n",
    "    word_count = Dict{String,Int}()\n",
    "    w2i = Dict{String,Int}()\n",
    "    i2w = Vector{String}()\n",
    "    int_eos = get!(w2i, eos, 1+length(w2i))\n",
    "    int_unk = get!(w2i, unk, 1+length(w2i))\n",
    "    for line in eachline(file)\n",
    "        line = tokenizer(line)\n",
    "        for word in line\n",
    "            if haskey(word_count, word)\n",
    "                word_count[word] += 1\n",
    "            else\n",
    "                word_count[word] = 1\n",
    "            end\n",
    "        end\n",
    "    end\n",
    "    word_count = collect(word_count)\n",
    "    sort!(word_count, rev=true, by=x->x[2])\n",
    "    # constructing w2i\n",
    "    for pair in word_count\n",
    "        if pair[2] >= mincount\n",
    "            get!(w2i, pair[1], 1+length(w2i))\n",
    "            if length(w2i) >= vocabsize\n",
    "                break\n",
    "            end\n",
    "        end\n",
    "    end\n",
    "    w2i_array = collect(w2i)\n",
    "    sort!(w2i_array, by=x->x[2])\n",
    "    for pair in w2i_array\n",
    "        push!(i2w, pair[1])\n",
    "    end\n",
    "    return Vocab(w2i, i2w, int_unk, int_eos, tokenizer)\n",
    "end"
   ]
  },
  {
   "cell_type": "code",
   "execution_count": 3,
   "metadata": {},
   "outputs": [],
   "source": [
    "struct TextReader\n",
    "    file::String\n",
    "    vocab::Vocab\n",
    "end\n",
    "\n",
    "function Base.iterate(r::TextReader, s=nothing)\n",
    "    s == nothing && (s = open(r.file))\n",
    "    if eof(s)\n",
    "        close(s)\n",
    "        return nothing\n",
    "    end\n",
    "    line = readline(s)\n",
    "    line = r.vocab.tokenizer(line)\n",
    "    line_inds = Int[]\n",
    "    for word in line\n",
    "        push!(line_inds, get(r.vocab.w2i, word, r.vocab.unk))\n",
    "    end\n",
    "    return line_inds, s\n",
    "end\n",
    "\n",
    "Base.IteratorSize(::Type{TextReader}) = Base.SizeUnknown()\n",
    "Base.IteratorEltype(::Type{TextReader}) = Base.HasEltype()\n",
    "Base.eltype(::Type{TextReader}) = Vector{Int}"
   ]
  },
  {
   "cell_type": "code",
   "execution_count": 4,
   "metadata": {},
   "outputs": [],
   "source": [
    "struct Embed; w; end\n",
    "\n",
    "function Embed(vocabsize::Int, embedsize::Int)\n",
    "    return Embed(param(embedsize, vocabsize, atype = Knet.atype()))\n",
    "end\n",
    "\n",
    "function (l::Embed)(x)\n",
    "    l.w[:,x]\n",
    "end"
   ]
  },
  {
   "cell_type": "code",
   "execution_count": 5,
   "metadata": {},
   "outputs": [],
   "source": [
    "struct Linear; w; b; end\n",
    "\n",
    "function Linear(inputsize::Int, outputsize::Int)\n",
    "    return Linear(param(outputsize, inputsize, atype = Knet.atype()), param0(outputsize, atype = Knet.atype()))\n",
    "end\n",
    "\n",
    "function (l::Linear)(x)\n",
    "    l.w * x .+ l.b\n",
    "end"
   ]
  },
  {
   "cell_type": "code",
   "execution_count": 6,
   "metadata": {},
   "outputs": [
    {
     "data": {
      "text/plain": [
       "mask! (generic function with 1 method)"
      ]
     },
     "execution_count": 6,
     "metadata": {},
     "output_type": "execute_result"
    }
   ],
   "source": [
    "function mask!(a,pad)\n",
    "    num_rows, num_cols = size(a)\n",
    "    for row in 1:num_rows\n",
    "        for column in num_cols:-1:1\n",
    "            if a[row, column] != pad || a[row, column-1] != pad\n",
    "                break\n",
    "            else\n",
    "                a[row, column] = 0\n",
    "            end\n",
    "        end\n",
    "    end\n",
    "    return a\n",
    "end"
   ]
  },
  {
   "cell_type": "markdown",
   "metadata": {},
   "source": [
    "## Part 0. Load data\n",
    "\n",
    "We will use the Turkish-English pair from the [TED Talks Dataset](https://github.com/neulab/word-embeddings-for-nmt) for our experiments."
   ]
  },
  {
   "cell_type": "code",
   "execution_count": 7,
   "metadata": {},
   "outputs": [
    {
     "name": "stderr",
     "output_type": "stream",
     "text": [
      "┌ Info: Testing data\n",
      "└ @ Main In[7]:17\n"
     ]
    },
    {
     "data": {
      "text/plain": [
       "\u001b[32m\u001b[1mTest Passed\u001b[22m\u001b[39m"
      ]
     },
     "execution_count": 7,
     "metadata": {},
     "output_type": "execute_result"
    }
   ],
   "source": [
    "datadir = \"datasets/tr_to_en\"\n",
    "\n",
    "if !isdir(datadir)\n",
    "    download(\"http://www.phontron.com/data/qi18naacl-dataset.tar.gz\", \"qi18naacl-dataset.tar.gz\")\n",
    "    run(`tar xzf qi18naacl-dataset.tar.gz`)\n",
    "end\n",
    "\n",
    "if !isdefined(Main, :tr_vocab)\n",
    "    tr_vocab = Vocab(\"$datadir/tr.train\", mincount=5)\n",
    "    en_vocab = Vocab(\"$datadir/en.train\", mincount=5)\n",
    "    tr_train = TextReader(\"$datadir/tr.train\", tr_vocab)\n",
    "    en_train = TextReader(\"$datadir/en.train\", en_vocab)\n",
    "    tr_dev = TextReader(\"$datadir/tr.dev\", tr_vocab)\n",
    "    en_dev = TextReader(\"$datadir/en.dev\", en_vocab)\n",
    "    tr_test = TextReader(\"$datadir/tr.test\", tr_vocab)\n",
    "    en_test = TextReader(\"$datadir/en.test\", en_vocab)\n",
    "    @info \"Testing data\"\n",
    "    @test length(tr_vocab.i2w) == 38126\n",
    "    @test length(first(tr_test)) == 16\n",
    "    @test length(collect(tr_test)) == 5029\n",
    "end"
   ]
  },
  {
   "cell_type": "markdown",
   "metadata": {},
   "source": [
    "## Part 1. Minibatching\n",
    "\n",
    "For minibatching we are going to design a new iterator: `MTData`. This iterator is built\n",
    "on top of two TextReaders `src` and `tgt` that produce parallel sentences for source and\n",
    "target languages."
   ]
  },
  {
   "cell_type": "code",
   "execution_count": 8,
   "metadata": {},
   "outputs": [],
   "source": [
    "struct MTData\n",
    "    src::TextReader        # reader for source language data\n",
    "    tgt::TextReader        # reader for target language data\n",
    "    batchsize::Int         # desired batch size\n",
    "    maxlength::Int         # skip if source sentence above maxlength\n",
    "    batchmajor::Bool       # batch dims (B,T) if batchmajor=false (default) or (T,B) if true.\n",
    "    bucketwidth::Int       # batch sentences with length within bucketwidth of each other\n",
    "    buckets::Vector        # sentences collected in separate arrays called buckets for each length range\n",
    "    batchmaker::Function   # function that turns a bucket into a batch.\n",
    "end\n",
    "\n",
    "function MTData(src::TextReader, tgt::TextReader; batchmaker = arraybatch, batchsize = 128, maxlength = typemax(Int),\n",
    "                batchmajor = false, bucketwidth = 10, numbuckets = min(128, maxlength ÷ bucketwidth))\n",
    "    buckets = [ [] for i in 1:numbuckets ] # buckets[i] is an array of sentence pairs with similar length\n",
    "    MTData(src, tgt, batchsize, maxlength, batchmajor, bucketwidth, buckets, batchmaker)\n",
    "end\n",
    "\n",
    "Base.IteratorSize(::Type{MTData}) = Base.SizeUnknown()\n",
    "Base.IteratorEltype(::Type{MTData}) = Base.HasEltype()\n",
    "Base.eltype(::Type{MTData}) = NTuple{2}"
   ]
  },
  {
   "cell_type": "markdown",
   "metadata": {},
   "source": [
    "### iterate(::MTData)\n",
    "\n",
    "Define the `iterate` function for the `MTData` iterator. `iterate` should return a\n",
    "`(batch, state)` pair or `nothing` if there are no more batches.  The `batch` is a\n",
    "`(x::Matrix{Int},y::Matrix{Int})` pair where `x` is a `(batchsize,srclength)` batch of\n",
    "source language sentences and `y` is a `(batchsize,tgtlength)` batch of parallel target\n",
    "language translations. The `state` is a pair of `(src_state,tgt_state)` which can be used\n",
    "to iterate `d.src` and `d.tgt` to get more sentences.  `iterate(d)` without a second\n",
    "argument should initialize `d` by emptying its buckets and calling `iterate` on the inner\n",
    "iterators `d.src` and `d.tgt` without a state. Please review the documentation on\n",
    "iterators from the last project.\n",
    "\n",
    "To keep similar length sentences together `MTData` uses arrays of similar length sentence\n",
    "pairs called buckets.  Specifically, the `(src_sentence,tgt_sentence)` pairs coming from\n",
    "`src` and `tgt` are pushed into `d.buckets[i]` when the length of the source sentence is\n",
    "in the range `((i-1)*d.bucketwidth+1):(i*d.bucketwidth)`. When one of the buckets reaches\n",
    "`d.batchsize` `d.batchmaker` is called with the full bucket producing a 2-D batch, the\n",
    "bucket is emptied and the batch is returned. If `src` and `tgt` are exhausted the\n",
    "remaining partially full buckets are turned into batches and returned in any order. If the\n",
    "source sentence length is larger than `length(d.buckets)*d.bucketwidth`, the last bucket\n",
    "is used.\n",
    "\n",
    "Sentences above a certain length can be skipped using the `d.maxlength` field, and\n",
    "transposed `x,y` arrays can be produced using the `d.batchmajor` field."
   ]
  },
  {
   "cell_type": "code",
   "execution_count": 30,
   "metadata": {},
   "outputs": [],
   "source": [
    "function Base.iterate(d::MTData, state=nothing)\n",
    "    # Your code here\n",
    "    if state == nothing\n",
    "        for i in 1:length(d.buckets)\n",
    "            d.buckets[i] = []\n",
    "        end\n",
    "    end\n",
    "      \n",
    "    while true\n",
    "        if state == nothing\n",
    "            s_data,s_state = iterate(d.src)\n",
    "            t_data,t_state = iterate(d.tgt)\n",
    "        elseif state == \"eof\"\n",
    "             #if there are no more half filled batches, return nothing\n",
    "            for i in 1:length(d.buckets)\n",
    "                if length(d.buckets[i]) > 0\n",
    "                    bucket = d.buckets[i]\n",
    "                    d.buckets[i] = []\n",
    "                    return (d.batchmaker(d,bucket),\"eof\")\n",
    "                end\n",
    "            end\n",
    "            \n",
    "            #no more batches\n",
    "            return nothing\n",
    "        else\n",
    "            src = iterate(d.src,state[1]) \n",
    "            tgt = iterate(d.tgt,state[2])\n",
    "            \n",
    "            #TextReader returns a \"nothing\" value when it finishes, so i need to turn it into a Tuple for \n",
    "            #my code to run as intended\n",
    "            if src == nothing; src = (nothing,nothing);end\n",
    "            if tgt == nothing; tgt = (nothing,nothing);end\n",
    "\n",
    "            s_data,s_state = src\n",
    "            t_data,t_state = tgt\n",
    "        end\n",
    "        \n",
    "        \n",
    "        #if we reached the end of the src or tgt files, return half filled buckets\n",
    "        if (s_state == nothing) | (t_state ==  nothing)\n",
    "            state = \"eof\"\n",
    "            continue\n",
    "        end\n",
    "        \n",
    "        #if source sentence above d.maxlength\n",
    "        if length(s_data) > d.maxlength\n",
    "            state = (s_state,t_state)\n",
    "            continue\n",
    "        #if src sentence larger than a condition specified by Deniz\n",
    "        elseif length(s_data) >=  length(d.buckets)*d.bucketwidth\n",
    "            \n",
    "            push!(d.buckets[length(d.buckets)],(s_data,t_data))\n",
    "            if length(d.buckets[length(d.buckets)]) == d.batchsize\n",
    "                bucket = d.buckets[length(d.buckets)]\n",
    "                d.buckets[length(d.buckets)] = []\n",
    "                return (d.batchmaker(d,bucket),(s_state,t_state))\n",
    "            end\n",
    "        #of if src sentence in range\n",
    "            \n",
    "        else\n",
    "            \n",
    "            for i in 1:length(d.buckets)\n",
    "                if length(s_data) in ((i-1)*d.bucketwidth+1):(i*d.bucketwidth)\n",
    "                    push!(d.buckets[i],(s_data,t_data))\n",
    "                    if length(d.buckets[i]) == d.batchsize\n",
    "                        bucket = d.buckets[i]\n",
    "                        d.buckets[i] = []\n",
    "                        return (d.batchmaker(d,bucket),(s_state,t_state))\n",
    "                    end\n",
    "                end\n",
    "            end\n",
    "            \n",
    "        end\n",
    "        state = (s_state,t_state)\n",
    "    end\n",
    "end"
   ]
  },
  {
   "cell_type": "markdown",
   "metadata": {},
   "source": [
    "### arraybatch\n",
    "\n",
    "Define `arraybatch(d, bucket)` to be used as the default `d.batchmaker`. `arraybatch`\n",
    "takes an `MTData` object and an array of sentence pairs `bucket` and returns a\n",
    "`(x::Matrix{Int},y::Matrix{Int})` pair where `x` is a `(batchsize,srclength)` batch of\n",
    "source language sentences and `y` is a `(batchsize,tgtlength)` batch of parallel target\n",
    "language translations. Note that the sentences in the bucket do not have any `eos` tokens\n",
    "and they may have different lengths. `arraybatch` should copy the source sentences into\n",
    "`x` padding shorter ones on the left with `eos` tokens. It should copy the target\n",
    "sentences into `y` with an `eos` token in the beginning and end of each sentence and\n",
    "shorter sentences padded on the right with extra `eos` tokens."
   ]
  },
  {
   "cell_type": "code",
   "execution_count": 31,
   "metadata": {},
   "outputs": [
    {
     "data": {
      "text/plain": [
       "arraybatch (generic function with 1 method)"
      ]
     },
     "execution_count": 31,
     "metadata": {},
     "output_type": "execute_result"
    }
   ],
   "source": [
    "function arraybatch(d::MTData, bucket)\n",
    "    # Your code here\n",
    "     # Your code here\n",
    "    x = [] \n",
    "    y = []\n",
    "    \n",
    "    srclength = max([length(pair[1]) for pair in bucket]...)\n",
    "    tgtlength = max([length(pair[2]) for pair in bucket]...)\n",
    "    \n",
    "    for pair in bucket\n",
    "        src_sentence, tgt_sentence = pair\n",
    "        src_sen = []\n",
    "        tgt_sen = []\n",
    "                \n",
    "        tgt_eos = d.tgt.vocab.eos\n",
    "        push!(tgt_sen, tgt_eos)\n",
    "        for w in tgt_sentence\n",
    "            push!(tgt_sen, w) \n",
    "        end\n",
    "        while length(tgt_sen) != (tgtlength + 2)\n",
    "            push!(tgt_sen, tgt_eos)\n",
    "        end\n",
    "        \n",
    "        src_eos = d.src.vocab.eos\n",
    "        eos_num = srclength - length(src_sentence)\n",
    "        i = 0\n",
    "        while i!= eos_num\n",
    "            push!(src_sen, src_eos)\n",
    "            i += 1\n",
    "        end\n",
    "        for w in src_sentence\n",
    "            push!(src_sen, w) \n",
    "        end        \n",
    "        push!(x, src_sen)\n",
    "        push!(y, tgt_sen)\n",
    "    end\n",
    "    \n",
    "    return Matrix(hcat(x...)'), Matrix(hcat(y...)')\n",
    "end"
   ]
  },
  {
   "cell_type": "code",
   "execution_count": 32,
   "metadata": {},
   "outputs": [
    {
     "name": "stderr",
     "output_type": "stream",
     "text": [
      "┌ Info: Testing MTData\n",
      "└ @ Main In[32]:1\n"
     ]
    },
    {
     "data": {
      "text/plain": [
       "\u001b[32m\u001b[1mTest Passed\u001b[22m\u001b[39m"
      ]
     },
     "execution_count": 32,
     "metadata": {},
     "output_type": "execute_result"
    }
   ],
   "source": [
    "@info \"Testing MTData\"\n",
    "dtrn = MTData(tr_train, en_train)\n",
    "ddev = MTData(tr_dev, en_dev)\n",
    "dtst = MTData(tr_test, en_test)\n",
    "\n",
    "x,y = first(dtst)\n",
    "@test length(collect(dtst)) == 48\n",
    "@test size.((x,y)) == ((128,10),(128,24))\n",
    "@test x[1,1] == tr_vocab.eos\n",
    "@test x[1,end] != tr_vocab.eos\n",
    "@test y[1,1] == en_vocab.eos\n",
    "@test y[1,2] != en_vocab.eos\n",
    "@test y[1,end] == en_vocab.eos"
   ]
  },
  {
   "cell_type": "markdown",
   "metadata": {},
   "source": [
    "## Part 2. Sequence to sequence model without attention\n",
    "\n",
    "In this part we will define a simple sequence to sequence encoder-decoder model for\n",
    "machine translation."
   ]
  },
  {
   "cell_type": "code",
   "execution_count": 12,
   "metadata": {},
   "outputs": [],
   "source": [
    "struct S2S_v1\n",
    "    srcembed::Embed     # source language embedding\n",
    "    encoder::RNN        # encoder RNN (can be bidirectional)\n",
    "    tgtembed::Embed     # target language embedding\n",
    "    decoder::RNN        # decoder RNN\n",
    "    projection::Linear  # converts decoder output to vocab scores\n",
    "    dropout::Real       # dropout probability to prevent overfitting\n",
    "    srcvocab::Vocab     # source language vocabulary\n",
    "    tgtvocab::Vocab     # target language vocabulary\n",
    "end"
   ]
  },
  {
   "cell_type": "markdown",
   "metadata": {},
   "source": [
    "### S2S_v1 constructor\n",
    "\n",
    "Define the S2S_v1 constructor using your predefined layer types (Embed, Linear), and the\n",
    "Knet RNN type. Please review the RNN documentation using `@doc RNN`, paying attention to\n",
    "the following options in particular: `numLayers`, `bidirectional`, `dropout`, `dataType`,\n",
    "`usegpu`. The last two are important if you experiment with array types other than the\n",
    "default `KnetArray{Float32}`: make sure the RNNs use the same array type as the other\n",
    "layers. Note that if the encoder is bidirectional, its `numLayers` should be half of the\n",
    "decoder so that their hidden states match in size."
   ]
  },
  {
   "cell_type": "code",
   "execution_count": 13,
   "metadata": {},
   "outputs": [
    {
     "data": {
      "text/plain": [
       "S2S_v1"
      ]
     },
     "execution_count": 13,
     "metadata": {},
     "output_type": "execute_result"
    }
   ],
   "source": [
    "function S2S_v1(hidden::Int,         # hidden size for both the encoder and decoder RNN\n",
    "                srcembsz::Int,       # embedding size for source language\n",
    "                tgtembsz::Int,       # embedding size for target language\n",
    "                srcvocab::Vocab,     # vocabulary for source language\n",
    "                tgtvocab::Vocab;     # vocabulary for target language\n",
    "                layers=1,            # number of layers\n",
    "                bidirectional=false, # whether encoder RNN is bidirectional\n",
    "                dropout=0)           # dropout probability\n",
    "    \n",
    "    srcembed = Embed(length(srcvocab.i2w), srcembsz)\n",
    "    encoder = RNN(srcembsz, hidden, numLayers=(bidirectional ? Integer(layers/2) : layers), bidirectional=bidirectional, dropout=dropout, dataType=Float32, usegpu=(gpu()>=0))\n",
    "    tgtembed = Embed(length(tgtvocab.i2w), tgtembsz)\n",
    "    decoder = RNN(tgtembsz, hidden, numLayers=layers, dropout=dropout, dataType=Float32, usegpu=(gpu()>=0))\n",
    "    projection = Linear(hidden, length(tgtvocab.i2w))\n",
    "    \n",
    "    return S2S_v1(srcembed, encoder, tgtembed, decoder, projection, dropout, srcvocab, tgtvocab)\n",
    "end"
   ]
  },
  {
   "cell_type": "markdown",
   "metadata": {},
   "source": [
    "### S2S_v1 loss function\n",
    "\n",
    "Define the S2S_v1 loss function that takes `src`, a source language minibatch, and `tgt`,\n",
    "a target language minibatch and returns either a `(total_loss, num_words)` pair if\n",
    "`average=false`, or `(total_loss/num_words)` average if `average=true`.\n",
    "\n",
    "Assume that `src` and `tgt` are integer arrays of size `(B,Tx)` and `(B,Ty)` respectively,\n",
    "where `B` is the batch size, `Tx` is the length of the longest source sequence, `Ty` is\n",
    "the length of the longest target sequence. The `src` sequences only contain words, the\n",
    "`tgt` sequences surround the words with `eos` tokens at the start and end. This allows\n",
    "columns `tgt[:,1:end-1]` to be used as the decoder input and `tgt[:,2:end]` as the desired\n",
    "decoder output.\n",
    "\n",
    "Assume any shorter sentences in the batches have been padded with extra `eos` tokens on\n",
    "the left for `src` and on the right for `tgt`. Don't worry about masking `src` for the\n",
    "encoder, it doesn't have a significant effect on the loss. However do mask `tgt` before\n",
    "`nll`: you do not want the padding tokens to be counted in the loss calculation.\n",
    "\n",
    "Please review `@doc RNN`: in particular the `r.c` and `r.h` fields can be used to get/set\n",
    "the cell and hidden arrays of an RNN (note that `0` and `nothing` act as special values).\n",
    "\n",
    "RNNs take a dropout value at construction and apply dropout to the input of every layer if\n",
    "it is non-zero. You need to handle dropout for other layers in the loss function or in\n",
    "layer definitions as necessary."
   ]
  },
  {
   "cell_type": "code",
   "execution_count": 14,
   "metadata": {},
   "outputs": [],
   "source": [
    "function (s::S2S_v1)(src, tgt; average=true) # B, Tx  # B, Ty\n",
    "    s.encoder.h = 0\n",
    "    s.encoder.c = 0\n",
    "    source_embedding = s.srcembed(src)\n",
    "    s.encoder(source_embedding)\n",
    "    s.decoder.h = s.encoder.h\n",
    "    s.decoder.c = s.encoder.c\n",
    "    dec_in_embedding = s.tgtembed(tgt[:,1:end-1])\n",
    "    dec_hidden = s.decoder(dec_in_embedding) # H, B, T\n",
    "    hidden_reshaped = reshape(dec_hidden, (size(dec_hidden,1), size(dec_hidden,2)*size(dec_hidden,3))) # H, B*T\n",
    "    scores = s.projection(hidden_reshaped) # V, B*T\n",
    "    target = tgt[:, 2:end] # B, T\n",
    "    mask!(target, s.tgtvocab.eos)\n",
    "    target = reshape(target, :)\n",
    "    nll(scores, target, average=average)\n",
    "end"
   ]
  },
  {
   "cell_type": "code",
   "execution_count": 15,
   "metadata": {},
   "outputs": [
    {
     "name": "stderr",
     "output_type": "stream",
     "text": [
      "┌ Info: Testing S2S_v1\n",
      "└ @ Main In[15]:1\n"
     ]
    },
    {
     "data": {
      "text/plain": [
       "\u001b[32m\u001b[1mTest Passed\u001b[22m\u001b[39m"
      ]
     },
     "execution_count": 15,
     "metadata": {},
     "output_type": "execute_result"
    }
   ],
   "source": [
    "@info \"Testing S2S_v1\"\n",
    "Knet.seed!(1)\n",
    "model = S2S_v1(512, 512, 512, tr_vocab, en_vocab; layers=2, bidirectional=true, dropout=0.2)\n",
    "(x,y) = first(dtst)\n",
    "# Your loss can be slightly different due to different ordering of words in the vocabulary.\n",
    "# The reference vocabulary starts with eos, unk, followed by words in decreasing frequency.\n",
    "@test model(x,y; average=false) == (14097.471f0, 1432)"
   ]
  },
  {
   "cell_type": "markdown",
   "metadata": {},
   "source": [
    "### Loss for a whole dataset\n",
    "\n",
    "Define a `loss(model, data)` which returns a `(Σloss, Nloss)` pair if `average=false` and\n",
    "a `Σloss/Nloss` average if `average=true` for a whole dataset. Assume that `data` is an\n",
    "iterator of `(x,y)` pairs such as `MTData` and `model(x,y;average)` is a model like\n",
    "`S2S_v1` that computes loss on a single `(x,y)` pair."
   ]
  },
  {
   "cell_type": "code",
   "execution_count": 16,
   "metadata": {},
   "outputs": [
    {
     "data": {
      "text/plain": [
       "loss (generic function with 1 method)"
      ]
     },
     "execution_count": 16,
     "metadata": {},
     "output_type": "execute_result"
    }
   ],
   "source": [
    "function loss(model, data; average=true)\n",
    "    loss = 0\n",
    "    count = 0\n",
    "    Σloss = 0\n",
    "    Nloss = 0\n",
    "    for (x, y) in data\n",
    "        loss, count = model(x, y, average=false)\n",
    "        Σloss += loss\n",
    "        Nloss += count\n",
    "    end\n",
    "    \n",
    "    if average\n",
    "        return Σloss/Nloss\n",
    "    else\n",
    "        return Σloss, Nloss\n",
    "    end\n",
    "end"
   ]
  },
  {
   "cell_type": "code",
   "execution_count": 17,
   "metadata": {},
   "outputs": [
    {
     "name": "stderr",
     "output_type": "stream",
     "text": [
      "┌ Info: Testing loss\n",
      "└ @ Main In[17]:1\n"
     ]
    },
    {
     "data": {
      "text/plain": [
       "\u001b[32m\u001b[1mTest Passed\u001b[22m\u001b[39m"
      ]
     },
     "execution_count": 17,
     "metadata": {},
     "output_type": "execute_result"
    }
   ],
   "source": [
    "@info \"Testing loss\"\n",
    "@test loss(model, dtst, average=false) == (1.0429117f6, 105937)\n",
    "# Your loss can be slightly different due to different ordering of words in the vocabulary.\n",
    "# The reference vocabulary starts with eos, unk, followed by words in decreasing frequency.\n",
    "# Also, because we do not mask src, different batch sizes may lead to slightly different\n",
    "# losses. The test above gives (1.0429178f6, 105937) with batchsize==1."
   ]
  },
  {
   "cell_type": "markdown",
   "metadata": {},
   "source": [
    "### Training SGD_v1\n",
    "\n",
    "The following function can be used to train our model. `trn` is the training data, `dev`\n",
    "is used to determine the best model, `tst...` can be zero or more small test datasets for\n",
    "loss reporting. It returns the model that does best on `dev`."
   ]
  },
  {
   "cell_type": "code",
   "execution_count": 18,
   "metadata": {
    "scrolled": true
   },
   "outputs": [
    {
     "data": {
      "text/plain": [
       "train! (generic function with 1 method)"
      ]
     },
     "execution_count": 18,
     "metadata": {},
     "output_type": "execute_result"
    }
   ],
   "source": [
    "function train!(model, trn, dev, tst...)\n",
    "    bestmodel, bestloss = deepcopy(model), loss(model, dev)\n",
    "    progress!(adam(model, trn), steps=100) do y\n",
    "        losses = [ loss(model, d) for d in (dev,tst...) ]\n",
    "        if losses[1] < bestloss\n",
    "            bestmodel, bestloss = deepcopy(model), losses[1]\n",
    "        end\n",
    "        return (losses...,)\n",
    "    end\n",
    "    return bestmodel\n",
    "end"
   ]
  },
  {
   "cell_type": "markdown",
   "metadata": {},
   "source": [
    "You should be able to get under 3.40 dev loss with the following settings in 10\n",
    "epochs. The training speed on a V100 is about 3 mins/epoch or 40K words/sec, K80 is about\n",
    "6 times slower. Using settings closer to the Luong paper (per-sentence loss rather than\n",
    "per-word loss, SGD with lr=1, gclip=1 instead of Adam), you can get to 3.17 dev loss in\n",
    "about 25 epochs. Using dropout and shuffling batches before each epoch significantly\n",
    "improve the dev loss. You can play around with hyperparameters but I doubt results will\n",
    "get much better without attention. To verify your training, here is the dev loss I\n",
    "observed at the beginning of each epoch in one training session:\n",
    "`[9.83, 4.60, 3.98, 3.69, 3.52, 3.41, 3.35, 3.32, 3.30, 3.31, 3.33]`"
   ]
  },
  {
   "cell_type": "code",
   "execution_count": 24,
   "metadata": {
    "scrolled": true
   },
   "outputs": [
    {
     "name": "stderr",
     "output_type": "stream",
     "text": [
      "┌ Info: Training S2S_v1\n",
      "└ @ Main In[24]:1\n",
      "┣███████████████████▋┫ [98.39%, 14100/14330, 02:57:30/03:00:23, 1.36i/s] (3.4897823f0, 2.4676006f0)              ┫ [1.40%, 200/14330, 02:43/03:14:16, 1.40i/s] (6.0929995f0, 6.1956534f0)█▊                  ┫ [9.07%, 1300/14330, 16:22/03:00:23, 1.40i/s] (4.6160693f0, 4.637247f0)██▌                 ┫ [12.56%, 1800/14330, 22:38/03:00:09, 1.32i/s] (4.3524394f0, 4.338263f0)██▊                 ┫ [13.96%, 2000/14330, 25:03/02:59:26, 1.45i/s] (4.2677917f0, 4.2499704f0)███▏                ┫ [16.05%, 2300/14330, 28:48/02:59:24, 1.41i/s] (4.1583853f0, 4.144301f0)████▌               ┫ [23.03%, 3300/14330, 41:12/02:58:56, 1.39i/s] (3.9148686f0, 3.8874183f0)█████▏              ┫ [25.82%, 3700/14330, 46:18/02:59:19, 1.27i/s] (3.8186646f0, 3.689507f0)█████▍              ┫ [27.22%, 3900/14330, 48:54/02:59:41, 1.25i/s] (3.7730432f0, 3.6619437f0)█████▋              ┫ [28.61%, 4100/14330, 51:24/02:59:39, 1.32i/s] (3.7492828f0, 3.6441243f0)█████▊              ┫ [29.31%, 4200/14330, 52:38/02:59:35, 1.35i/s] (3.7356696f0, 3.615035f0)██████              ┫ [30.01%, 4300/14330, 53:53/02:59:35, 1.33i/s] (3.72455f0, 3.6056387f0)██████▎             ┫ [31.40%, 4500/14330, 56:33/03:00:05, 1.20i/s] (3.6978474f0, 3.5735722f0)██████▋             ┫ [33.50%, 4800/14330, 01:00:13/02:59:47, 1.41i/s] (3.6901479f0, 3.5443494f0)██████▊             ┫ [34.19%, 4900/14330, 01:01:31/02:59:53, 1.29i/s] (3.6630495f0, 3.4764729f0)███████             ┫ [35.59%, 5100/14330, 01:03:59/02:59:46, 1.36i/s] (3.642954f0, 3.440018f0)███████▍            ┫ [36.99%, 5300/14330, 01:06:35/03:00:01, 1.31i/s] (3.6168437f0, 3.416026f0)███████▉            ┫ [39.78%, 5700/14330, 01:11:27/02:59:37, 1.40i/s] (3.5740426f0, 3.3165603f0)████████▏           ┫ [41.17%, 5900/14330, 01:13:54/02:59:28, 1.45i/s] (3.578717f0, 3.338213f0)████████▌           ┫ [42.57%, 6100/14330, 01:16:24/02:59:30, 1.31i/s] (3.5574286f0, 3.288262f0)████████▋           ┫ [43.27%, 6200/14330, 01:17:36/02:59:21, 1.40i/s] (3.5551908f0, 3.26008f0)████████▉           ┫ [44.66%, 6400/14330, 01:20:13/02:59:37, 1.27i/s] (3.5375075f0, 3.2032464f0)█████████           ┫ [45.36%, 6500/14330, 01:21:31/02:59:43, 1.28i/s] (3.5286512f0, 3.1870708f0)█████████▏          ┫ [46.06%, 6600/14330, 01:22:46/02:59:42, 1.34i/s] (3.5283084f0, 3.1464221f0)█████████▎          ┫ [46.76%, 6700/14330, 01:23:53/02:59:25, 1.48i/s] (3.5272682f0, 3.1294034f0)█████████▍          ┫ [47.45%, 6800/14330, 01:25:15/02:59:40, 1.22i/s] (3.5125644f0, 3.1245692f0)█████████▊          ┫ [48.85%, 7000/14330, 01:27:53/02:59:54, 1.25i/s] (3.4929252f0, 3.115236f0)█████████▉          ┫ [49.55%, 7100/14330, 01:29:02/02:59:41, 1.45i/s] (3.4966085f0, 3.1240017f0)██████████          ┫ [50.24%, 7200/14330, 01:30:18/02:59:43, 1.31i/s] (3.4946356f0, 3.1249769f0)██████████▏         ┫ [50.94%, 7300/14330, 01:31:34/02:59:45, 1.32i/s] (3.5042148f0, 3.0954418f0)██████████▎         ┫ [51.64%, 7400/14330, 01:32:51/02:59:48, 1.30i/s] (3.5000873f0, 3.0975175f0)██████████▍         ┫ [52.34%, 7500/14330, 01:34:00/02:59:35, 1.46i/s] (3.5058584f0, 3.078732f0)██████████▋         ┫ [53.73%, 7700/14330, 01:36:36/02:59:46, 1.28i/s] (3.4820614f0, 3.057204f0)███████████▏        ┫ [55.83%, 8000/14330, 01:40:20/02:59:44, 1.31i/s] (3.47549f0, 3.0484366f0)███████████▋        ┫ [58.62%, 8400/14330, 01:45:28/02:59:56, 1.25i/s] (3.4474921f0, 2.9429078f0)████████████        ┫ [60.01%, 8600/14330, 01:48:01/02:59:59, 1.25i/s] (3.443257f0, 2.929497f0)████████████▏       ┫ [60.71%, 8700/14330, 01:49:14/02:59:56, 1.36i/s] (3.4653876f0, 2.9106863f0)████████████▍       ┫ [62.11%, 8900/14330, 01:51:50/03:00:04, 1.35i/s] (3.4652276f0, 2.8787339f0)████████████▌       ┫ [62.81%, 9000/14330, 01:53:09/03:00:09, 1.28i/s] (3.4568698f0, 2.8642912f0)████████████▉       ┫ [64.90%, 9300/14330, 01:56:54/03:00:08, 1.31i/s] (3.4511294f0, 2.8647263f0)█████████████▎      ┫ [66.29%, 9500/14330, 01:59:24/03:00:06, 1.33i/s] (3.4455845f0, 2.7969272f0)█████████████▊      ┫ [69.09%, 9900/14330, 02:04:22/03:00:01, 1.35i/s] (3.4332244f0, 2.7914526f0)██████████████      ┫ [70.48%, 10100/14330, 02:06:55/03:00:04, 1.29i/s] (3.4471233f0, 2.764282f0)██████████████▏     ┫ [71.18%, 10200/14330, 02:08:10/03:00:04, 1.33i/s] (3.4470656f0, 2.774283f0)██████████████▍     ┫ [71.88%, 10300/14330, 02:09:22/02:59:59, 1.39i/s] (3.4581337f0, 2.790699f0)██████████████▌     ┫ [72.58%, 10400/14330, 02:10:39/03:00:01, 1.31i/s] (3.4686546f0, 2.8153841f0)██████████████▋     ┫ [73.27%, 10500/14330, 02:11:57/03:00:05, 1.27i/s] (3.45701f0, 2.7767997f0)██████████████▊     ┫ [73.97%, 10600/14330, 02:13:16/03:00:09, 1.27i/s] (3.4447432f0, 2.7654111f0)███████████████     ┫ [75.37%, 10800/14330, 02:15:46/03:00:08, 1.31i/s] (3.4549017f0, 2.730259f0)███████████████▊    ┫ [78.86%, 11300/14330, 02:22:06/03:00:12, 1.26i/s] (3.4401832f0, 2.673802f0)████████████████▏   ┫ [80.95%, 11600/14330, 02:26:03/03:00:26, 1.21i/s] (3.4573646f0, 2.572483f0)████████████████▎   ┫ [81.65%, 11700/14330, 02:27:14/03:00:19, 1.42i/s] (3.465946f0, 2.5818334f0)████████████████▍   ┫ [82.34%, 11800/14330, 02:28:32/03:00:23, 1.27i/s] (3.4653468f0, 2.5814567f0)████████████████▌   ┫ [83.04%, 11900/14330, 02:29:48/03:00:23, 1.32i/s] (3.466863f0, 2.54242f0)█████████████████   ┫ [85.14%, 12200/14330, 02:33:29/03:00:16, 1.36i/s] (3.4738765f0, 2.5894563f0)█████████████████▎  ┫ [86.53%, 12400/14330, 02:35:59/03:00:15, 1.31i/s] (3.4697192f0, 2.5840476f0)█████████████████▌  ┫ [87.93%, 12600/14330, 02:38:31/03:00:17, 1.30i/s] (3.4596012f0, 2.5755224f0)█████████████████▋  ┫ [88.63%, 12700/14330, 02:39:47/03:00:18, 1.31i/s] (3.455445f0, 2.5760338f0)█████████████████▊  ┫ [89.32%, 12800/14330, 02:41:02/03:00:17, 1.34i/s] (3.4571836f0, 2.523108f0)██████████████████  ┫ [90.02%, 12900/14330, 02:42:21/03:00:21, 1.28i/s] (3.4494028f0, 2.5036004f0)██████████████████▎ ┫ [91.42%, 13100/14330, 02:44:59/03:00:28, 1.22i/s] (3.476126f0, 2.2953944f0)██████████████████▍ ┫ [92.11%, 13200/14330, 02:46:15/03:00:29, 1.32i/s] (3.4808936f0, 2.325912f0)██████████████████▌ ┫ [92.81%, 13300/14330, 02:47:30/03:00:28, 1.33i/s] (3.4867759f0, 2.3454206f0)██████████████████▊ ┫ [94.21%, 13500/14330, 02:49:57/03:00:24, 1.34i/s] (3.4937303f0, 2.4343421f0)██████████████████▉ ┫ [94.91%, 13600/14330, 02:51:15/03:00:26, 1.29i/s] (3.494298f0, 2.421184f0)███████████████████ ┫ [95.60%, 13700/14330, 02:52:28/03:00:24, 1.36i/s] (3.4874475f0, 2.4254913f0)███████████████████▌┫ [97.70%, 14000/14330, 02:56:16/03:00:25, 1.35i/s] (3.4939795f0, 2.4587638f0)███████████████████▊┫ [99.09%, 14200/14330, 02:58:45/03:00:24, 1.32i/s] (3.4905896f0, 2.4761627f0)███████████████████▉┫ [99.79%, 14300/14330, 02:59:59/03:00:22, 1.35i/s] (3.4796588f0, 2.485634f0)████████████████████┫ [100.00%, 14330/14330, 03:00:31/03:00:31, 1.32i/s] (3.474678f0, 2.489043f0)\n"
     ]
    }
   ],
   "source": [
    "@info \"Training S2S_v1\"\n",
    "epochs = 10\n",
    "ctrn = collect(dtrn)\n",
    "trnx10 = collect(flatten(shuffle!(ctrn) for i in 1:epochs))\n",
    "trn20 = ctrn[1:20]\n",
    "dev38 = collect(ddev)\n",
    "# Uncomment this to train the model (This takes about 30 mins on a V100):\n",
    "model = train!(model, trnx10, dev38, trn20)\n",
    "# Uncomment this to save the model:\n",
    "# Knet.save(\"s2s_v1.jld2\",\"model\",model)\n",
    "# Uncomment this to load the model:\n",
    "# model = Knet.load(\"s2s_v1.jld2\",\"model\")"
   ]
  },
  {
   "cell_type": "markdown",
   "metadata": {},
   "source": [
    "### Generating translations\n",
    "\n",
    "With a single argument, a `S2S_v1` object should take it as a batch of source sentences\n",
    "and generate translations for them. After passing `src` through the encoder and copying\n",
    "its hidden states to the decoder, the decoder is run starting with an initial input of all\n",
    "`eos` tokens. Highest scoring tokens are appended to the output and used as input for the\n",
    "subsequent decoder steps.  The decoder should stop generating when all sequences in the\n",
    "batch have generated `eos` or when `stopfactor * size(src,2)` decoder steps are reached. A\n",
    "correctly shaped target language batch should be returned."
   ]
  },
  {
   "cell_type": "code",
   "execution_count": 25,
   "metadata": {},
   "outputs": [],
   "source": [
    "function (s::S2S_v1)(src::Matrix{Int}; stopfactor = 3)\n",
    "    B = size(src, 1) # batch size\n",
    "    src_len = size(src, 2) # source maximum sentence length\n",
    "    eos_ind = s.tgtvocab.eos # eos token (we need it for the stopping condition)\n",
    "    # start of the processing part\n",
    "    # reset encoder hidden state at the start of the sentence\n",
    "    s.encoder.h = 0\n",
    "    s.encoder.c = 0\n",
    "    # get the embedding of the source sentence batch\n",
    "    source_embedding = s.srcembed(src) # dims: E, B, Tx\n",
    "    # encode the source sentence\n",
    "    s.encoder(source_embedding)\n",
    "    # transfer the encoding from the encoder to the decoder\n",
    "    s.decoder.h = s.encoder.h\n",
    "    s.decoder.c = s.encoder.c\n",
    "    # make the first decoder input (batch of eos tokens) # dims: B\n",
    "    first_word = repeat([eos_ind], B)\n",
    "    # encode the eos batch # dims: E, B\n",
    "    emb = s.tgtembed(first_word)\n",
    "    # keep the generated words in a variable (tgt) # dims: B, Ty\n",
    "    tgt = []\n",
    "    # stopping condition:\n",
    "    # 1- size(tgt, 2) >= stopfactor * src_len\n",
    "    # 2- if all batches have generate eos (make variable to check that) # dims: B\n",
    "    eos_generated = zeros(B) # zero if hasn't generated eos, one if eos has been generated\n",
    "    \n",
    "    while true # for each decoder timestep\n",
    "        # feed it to the decoder and get the output # dims: H, B\n",
    "        dec_out = s.decoder(emb)\n",
    "        # feed it to the projection layer and get scores over vocab # dims: V, B\n",
    "        out_score = s.projection(dec_out)\n",
    "        # get the index of the maximum score for each batch element # dims: B\n",
    "        predicted_tokens = reshape(map(x -> x[1], argmax(out_score, dims=1)), :)\n",
    "        eoses = findall(x->x==eos_ind, predicted_tokens)\n",
    "        eos_generated[eoses] .= 1\n",
    "        push!(tgt, predicted_tokens)\n",
    "        if (length(tgt) >= stopfactor * src_len) || all(eos_generated .== 1)\n",
    "            break\n",
    "        end\n",
    "        # encode the indices from the prev step # dims: E, B\n",
    "        emb = s.tgtembed(predicted_tokens)\n",
    "    end\n",
    "    tgt = hcat(tgt...)\n",
    "    return tgt # dims: B, Ty\n",
    "end"
   ]
  },
  {
   "cell_type": "code",
   "execution_count": 26,
   "metadata": {},
   "outputs": [
    {
     "data": {
      "text/plain": [
       "int2str (generic function with 1 method)"
      ]
     },
     "execution_count": 26,
     "metadata": {},
     "output_type": "execute_result"
    }
   ],
   "source": [
    "# Utility to convert int arrays to sentence strings\n",
    "function int2str(y,vocab)\n",
    "    y = vec(y)\n",
    "    ysos = findnext(w->!isequal(w,vocab.eos), y, 1)\n",
    "    ysos == nothing && return \"\"\n",
    "    yeos = something(findnext(isequal(vocab.eos), y, ysos), 1+length(y))\n",
    "    join(vocab.i2w[y[ysos:yeos-1]], \" \")\n",
    "end"
   ]
  },
  {
   "cell_type": "code",
   "execution_count": 27,
   "metadata": {},
   "outputs": [
    {
     "name": "stderr",
     "output_type": "stream",
     "text": [
      "┌ Info: Generating some translations\n",
      "└ @ Main In[27]:1\n"
     ]
    },
    {
     "name": "stdout",
     "output_type": "stream",
     "text": [
      "SRC: ( kahkahalar ) 17 yıl boyunca sessiz <unk> hayal edin , ve anneniz seyirciler arasından , böyle der .\n",
      "REF: ( laughter ) imagine if you were quiet for 17 years and your mother was out in the audience , say .\n",
      "OUT: ( laughter ) if you go back to the <unk> , you 'll see that the <unk> of this year , and this is the <unk> .\n"
     ]
    }
   ],
   "source": [
    "@info \"Generating some translations\"\n",
    "d = MTData(tr_dev, en_dev, batchsize=1) |> collect\n",
    "(src,tgt) = rand(d)\n",
    "out = model(src)\n",
    "println(\"SRC: \", int2str(src,model.srcvocab))\n",
    "println(\"REF: \", int2str(tgt,model.tgtvocab))\n",
    "println(\"OUT: \", int2str(out,model.tgtvocab))\n",
    "# Here is a sample output:\n",
    "# SRC: çin'e 15 şubat 2006'da ulaştım .\n",
    "# REF: i made it to china on february 15 , 2006 .\n",
    "# OUT: i got to china , china , at the last 15 years ."
   ]
  },
  {
   "cell_type": "markdown",
   "metadata": {},
   "source": [
    "### Calculating BLEU\n",
    "\n",
    "BLEU is the most commonly used metric to measure translation quality. The following should\n",
    "take a model and some data, generate translations and calculate BLEU."
   ]
  },
  {
   "cell_type": "code",
   "execution_count": 28,
   "metadata": {},
   "outputs": [
    {
     "data": {
      "text/plain": [
       "bleu (generic function with 1 method)"
      ]
     },
     "execution_count": 28,
     "metadata": {},
     "output_type": "execute_result"
    }
   ],
   "source": [
    "function bleu(s2s,d::MTData)\n",
    "    d = MTData(d.src,d.tgt,batchsize=1)\n",
    "    reffile = d.tgt.file\n",
    "    hypfile,hyp = mktemp()\n",
    "    for (x,y) in progress(collect(d))\n",
    "        g = s2s(x)\n",
    "        for i in 1:size(y,1)\n",
    "            println(hyp, int2str(g[i,:], d.tgt.vocab))\n",
    "        end\n",
    "    end\n",
    "    close(hyp)\n",
    "    isfile(\"multi-bleu.perl\") || download(\"https://github.com/moses-smt/mosesdecoder/raw/master/scripts/generic/multi-bleu.perl\", \"multi-bleu.perl\")\n",
    "    run(pipeline(`cat $hypfile`,`perl multi-bleu.perl $reffile`))\n",
    "    return hypfile\n",
    "end"
   ]
  },
  {
   "cell_type": "markdown",
   "metadata": {},
   "source": [
    "Calculating dev BLEU takes about 45 secs on a V100. We get about 8.0 BLEU which is pretty\n",
    "low. As can be seen from the sample translations a loss of ~3+ (perplexity ~20+) or a BLEU\n",
    "of ~8 is not sufficient to generate meaningful translations."
   ]
  },
  {
   "cell_type": "code",
   "execution_count": 29,
   "metadata": {},
   "outputs": [
    {
     "name": "stderr",
     "output_type": "stream",
     "text": [
      "┌ Info: Calculating BLEU\n",
      "└ @ Main In[29]:1\n",
      "┣████████████████████┫ [100.00%, 4045/4045, 01:40/01:40, 40.55i/s] \n",
      "perl: warning: Setting locale failed.\n",
      "perl: warning: Please check that your locale settings:\n",
      "\tLANGUAGE = (unset),\n",
      "\tLC_ALL = (unset),\n",
      "\tLC_CTYPE = \"UTF-8\",\n",
      "\tLANG = \"en_US.UTF-8\"\n",
      "    are supported and installed on your system.\n",
      "perl: warning: Falling back to the standard locale (\"C\").\n"
     ]
    },
    {
     "name": "stdout",
     "output_type": "stream",
     "text": [
      "BLEU = 7.81, 36.8/11.4/4.6/1.9 (BP=1.000, ratio=1.079, hyp_len=88979, ref_len=82502)\n"
     ]
    },
    {
     "name": "stderr",
     "output_type": "stream",
     "text": [
      "It is not advisable to publish scores from multi-bleu.perl.  The scores depend on your tokenizer, which is unlikely to be reproducible from your paper or consistent across research groups.  Instead you should detokenize then use mteval-v14.pl, which has a standard tokenization.  Scores from multi-bleu.perl can still be used for internal purposes when you have a consistent tokenizer.\n"
     ]
    },
    {
     "data": {
      "text/plain": [
       "\"/tmp/jl_vdyBFF\""
      ]
     },
     "execution_count": 29,
     "metadata": {},
     "output_type": "execute_result"
    }
   ],
   "source": [
    "@info \"Calculating BLEU\"\n",
    "bleu(model, ddev)"
   ]
  },
  {
   "cell_type": "markdown",
   "metadata": {},
   "source": [
    "To improve the quality of translations we can use more training data, different training\n",
    "and model parameters, or preprocess the input/output: e.g. splitting Turkish words to make\n",
    "suffixes look more like English function words may help. Other architectures,\n",
    "e.g. attention and transformer, perform significantly better than this simple S2S model."
   ]
  },
  {
   "cell_type": "markdown",
   "metadata": {},
   "source": [
    "*This notebook was generated using [Literate.jl](https://github.com/fredrikekre/Literate.jl).*"
   ]
  }
 ],
 "metadata": {
  "kernelspec": {
   "display_name": "Julia 1.2.0",
   "language": "julia",
   "name": "julia-1.2"
  },
  "language_info": {
   "file_extension": ".jl",
   "mimetype": "application/julia",
   "name": "julia",
   "version": "1.2.0"
  }
 },
 "nbformat": 4,
 "nbformat_minor": 3
}
